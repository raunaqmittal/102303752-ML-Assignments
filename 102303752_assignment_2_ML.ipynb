{
 "cells": [
  {
   "cell_type": "code",
   "execution_count": 1,
   "id": "ab1010c8",
   "metadata": {
    "_cell_guid": "b1076dfc-b9ad-4769-8c92-a6c4dae69d19",
    "_uuid": "8f2839f25d086af736a60e9eeb907d3b93b6e0e5",
    "execution": {
     "iopub.execute_input": "2024-08-28T13:42:44.946856Z",
     "iopub.status.busy": "2024-08-28T13:42:44.946386Z",
     "iopub.status.idle": "2024-08-28T13:42:47.766467Z",
     "shell.execute_reply": "2024-08-28T13:42:47.764906Z"
    },
    "papermill": {
     "duration": 2.834658,
     "end_time": "2024-08-28T13:42:47.769644",
     "exception": false,
     "start_time": "2024-08-28T13:42:44.934986",
     "status": "completed"
    },
    "tags": []
   },
   "outputs": [
    {
     "name": "stdout",
     "output_type": "stream",
     "text": [
      "/kaggle/input/microsoft-adventure-works-cycles-customer-data/AWCustomers.csv\n",
      "/kaggle/input/microsoft-adventure-works-cycles-customer-data/AWTest-Classification.csv\n",
      "/kaggle/input/microsoft-adventure-works-cycles-customer-data/AWSales.csv\n",
      "/kaggle/input/microsoft-adventure-works-cycles-customer-data/AWTest-Regression.csv\n"
     ]
    }
   ],
   "source": [
    "import pandas as pd\n",
    "import numpy as np\n",
    "import matplotlib.pyplot as plt\n",
    "import seaborn as sns\n",
    "from sklearn.preprocessing import StandardScaler\n",
    "from sklearn.metrics.pairwise import cosine_similarity\n",
    "import pandas as pd\n",
    "from sklearn.impute import SimpleImputer\n",
    "from sklearn.preprocessing import MinMaxScaler, StandardScaler, OneHotEncoder, KBinsDiscretizer\n",
    "from sklearn.compose import ColumnTransformer\n",
    "from sklearn.pipeline import Pipeline\n",
    "from sklearn.metrics import jaccard_score, pairwise_distances\n",
    "from scipy.spatial.distance import cosine\n",
    "import os\n",
    "for dirname, _, filenames in os.walk('/kaggle/input'):\n",
    "    for filename in filenames:\n",
    "        print(os.path.join(dirname, filename))\n"
   ]
  },
  {
   "cell_type": "markdown",
   "id": "efac40fb",
   "metadata": {
    "papermill": {
     "duration": 0.009905,
     "end_time": "2024-08-28T13:42:47.790390",
     "exception": false,
     "start_time": "2024-08-28T13:42:47.780485",
     "status": "completed"
    },
    "tags": []
   },
   "source": [
    "# Q1"
   ]
  },
  {
   "cell_type": "code",
   "execution_count": 2,
   "id": "d2d64c08",
   "metadata": {
    "execution": {
     "iopub.execute_input": "2024-08-28T13:42:47.812881Z",
     "iopub.status.busy": "2024-08-28T13:42:47.812038Z",
     "iopub.status.idle": "2024-08-28T13:42:48.007050Z",
     "shell.execute_reply": "2024-08-28T13:42:48.005727Z"
    },
    "papermill": {
     "duration": 0.209557,
     "end_time": "2024-08-28T13:42:48.009956",
     "exception": false,
     "start_time": "2024-08-28T13:42:47.800399",
     "status": "completed"
    },
    "tags": []
   },
   "outputs": [],
   "source": [
    "data_cus=pd.read_csv('/kaggle/input/microsoft-adventure-works-cycles-customer-data/AWCustomers.csv')\n",
    "data_sales=pd.read_csv('/kaggle/input/microsoft-adventure-works-cycles-customer-data/AWSales.csv')"
   ]
  },
  {
   "cell_type": "code",
   "execution_count": 3,
   "id": "7ecf9e85",
   "metadata": {
    "execution": {
     "iopub.execute_input": "2024-08-28T13:42:48.033778Z",
     "iopub.status.busy": "2024-08-28T13:42:48.033296Z",
     "iopub.status.idle": "2024-08-28T13:42:48.077717Z",
     "shell.execute_reply": "2024-08-28T13:42:48.076469Z"
    },
    "papermill": {
     "duration": 0.060129,
     "end_time": "2024-08-28T13:42:48.080485",
     "exception": false,
     "start_time": "2024-08-28T13:42:48.020356",
     "status": "completed"
    },
    "tags": []
   },
   "outputs": [
    {
     "data": {
      "text/html": [
       "<div>\n",
       "<style scoped>\n",
       "    .dataframe tbody tr th:only-of-type {\n",
       "        vertical-align: middle;\n",
       "    }\n",
       "\n",
       "    .dataframe tbody tr th {\n",
       "        vertical-align: top;\n",
       "    }\n",
       "\n",
       "    .dataframe thead th {\n",
       "        text-align: right;\n",
       "    }\n",
       "</style>\n",
       "<table border=\"1\" class=\"dataframe\">\n",
       "  <thead>\n",
       "    <tr style=\"text-align: right;\">\n",
       "      <th></th>\n",
       "      <th>CustomerID</th>\n",
       "      <th>Title</th>\n",
       "      <th>FirstName</th>\n",
       "      <th>MiddleName</th>\n",
       "      <th>LastName</th>\n",
       "      <th>Suffix</th>\n",
       "      <th>AddressLine1</th>\n",
       "      <th>AddressLine2</th>\n",
       "      <th>City</th>\n",
       "      <th>StateProvinceName</th>\n",
       "      <th>...</th>\n",
       "      <th>Education</th>\n",
       "      <th>Occupation</th>\n",
       "      <th>Gender</th>\n",
       "      <th>MaritalStatus</th>\n",
       "      <th>HomeOwnerFlag</th>\n",
       "      <th>NumberCarsOwned</th>\n",
       "      <th>NumberChildrenAtHome</th>\n",
       "      <th>TotalChildren</th>\n",
       "      <th>YearlyIncome</th>\n",
       "      <th>LastUpdated</th>\n",
       "    </tr>\n",
       "  </thead>\n",
       "  <tbody>\n",
       "    <tr>\n",
       "      <th>0</th>\n",
       "      <td>21173</td>\n",
       "      <td>NaN</td>\n",
       "      <td>Chad</td>\n",
       "      <td>C</td>\n",
       "      <td>Yuan</td>\n",
       "      <td>NaN</td>\n",
       "      <td>7090 C. Mount Hood</td>\n",
       "      <td>NaN</td>\n",
       "      <td>Wollongong</td>\n",
       "      <td>New South Wales</td>\n",
       "      <td>...</td>\n",
       "      <td>Bachelors</td>\n",
       "      <td>Clerical</td>\n",
       "      <td>M</td>\n",
       "      <td>M</td>\n",
       "      <td>1</td>\n",
       "      <td>3</td>\n",
       "      <td>0</td>\n",
       "      <td>1</td>\n",
       "      <td>81916</td>\n",
       "      <td>2017-03-06</td>\n",
       "    </tr>\n",
       "    <tr>\n",
       "      <th>1</th>\n",
       "      <td>13249</td>\n",
       "      <td>NaN</td>\n",
       "      <td>Ryan</td>\n",
       "      <td>NaN</td>\n",
       "      <td>Perry</td>\n",
       "      <td>NaN</td>\n",
       "      <td>3651 Willow Lake Rd</td>\n",
       "      <td>NaN</td>\n",
       "      <td>Shawnee</td>\n",
       "      <td>British Columbia</td>\n",
       "      <td>...</td>\n",
       "      <td>Partial College</td>\n",
       "      <td>Clerical</td>\n",
       "      <td>M</td>\n",
       "      <td>M</td>\n",
       "      <td>1</td>\n",
       "      <td>2</td>\n",
       "      <td>1</td>\n",
       "      <td>2</td>\n",
       "      <td>81076</td>\n",
       "      <td>2017-03-06</td>\n",
       "    </tr>\n",
       "    <tr>\n",
       "      <th>2</th>\n",
       "      <td>29350</td>\n",
       "      <td>NaN</td>\n",
       "      <td>Julia</td>\n",
       "      <td>NaN</td>\n",
       "      <td>Thompson</td>\n",
       "      <td>NaN</td>\n",
       "      <td>1774 Tice Valley Blvd.</td>\n",
       "      <td>NaN</td>\n",
       "      <td>West Covina</td>\n",
       "      <td>California</td>\n",
       "      <td>...</td>\n",
       "      <td>Bachelors</td>\n",
       "      <td>Clerical</td>\n",
       "      <td>F</td>\n",
       "      <td>S</td>\n",
       "      <td>0</td>\n",
       "      <td>3</td>\n",
       "      <td>0</td>\n",
       "      <td>0</td>\n",
       "      <td>86387</td>\n",
       "      <td>2017-03-06</td>\n",
       "    </tr>\n",
       "    <tr>\n",
       "      <th>3</th>\n",
       "      <td>13503</td>\n",
       "      <td>NaN</td>\n",
       "      <td>Theodore</td>\n",
       "      <td>NaN</td>\n",
       "      <td>Gomez</td>\n",
       "      <td>NaN</td>\n",
       "      <td>2103 Baldwin Dr</td>\n",
       "      <td>NaN</td>\n",
       "      <td>Liverpool</td>\n",
       "      <td>England</td>\n",
       "      <td>...</td>\n",
       "      <td>Partial College</td>\n",
       "      <td>Skilled Manual</td>\n",
       "      <td>M</td>\n",
       "      <td>M</td>\n",
       "      <td>1</td>\n",
       "      <td>2</td>\n",
       "      <td>1</td>\n",
       "      <td>2</td>\n",
       "      <td>61481</td>\n",
       "      <td>2017-03-06</td>\n",
       "    </tr>\n",
       "    <tr>\n",
       "      <th>4</th>\n",
       "      <td>22803</td>\n",
       "      <td>NaN</td>\n",
       "      <td>Marshall</td>\n",
       "      <td>J</td>\n",
       "      <td>Shan</td>\n",
       "      <td>NaN</td>\n",
       "      <td>Am Gallberg 234</td>\n",
       "      <td>NaN</td>\n",
       "      <td>Werne</td>\n",
       "      <td>Nordrhein-Westfalen</td>\n",
       "      <td>...</td>\n",
       "      <td>Partial College</td>\n",
       "      <td>Skilled Manual</td>\n",
       "      <td>M</td>\n",
       "      <td>S</td>\n",
       "      <td>1</td>\n",
       "      <td>1</td>\n",
       "      <td>0</td>\n",
       "      <td>0</td>\n",
       "      <td>51804</td>\n",
       "      <td>2017-03-06</td>\n",
       "    </tr>\n",
       "  </tbody>\n",
       "</table>\n",
       "<p>5 rows × 24 columns</p>\n",
       "</div>"
      ],
      "text/plain": [
       "   CustomerID Title FirstName MiddleName  LastName Suffix  \\\n",
       "0       21173   NaN      Chad          C      Yuan    NaN   \n",
       "1       13249   NaN      Ryan        NaN     Perry    NaN   \n",
       "2       29350   NaN     Julia        NaN  Thompson    NaN   \n",
       "3       13503   NaN  Theodore        NaN     Gomez    NaN   \n",
       "4       22803   NaN  Marshall          J      Shan    NaN   \n",
       "\n",
       "             AddressLine1 AddressLine2         City    StateProvinceName  ...  \\\n",
       "0      7090 C. Mount Hood          NaN   Wollongong      New South Wales  ...   \n",
       "1     3651 Willow Lake Rd          NaN      Shawnee     British Columbia  ...   \n",
       "2  1774 Tice Valley Blvd.          NaN  West Covina           California  ...   \n",
       "3         2103 Baldwin Dr          NaN    Liverpool              England  ...   \n",
       "4         Am Gallberg 234          NaN        Werne  Nordrhein-Westfalen  ...   \n",
       "\n",
       "         Education      Occupation Gender MaritalStatus HomeOwnerFlag  \\\n",
       "0        Bachelors        Clerical      M             M             1   \n",
       "1  Partial College        Clerical      M             M             1   \n",
       "2        Bachelors        Clerical      F             S             0   \n",
       "3  Partial College  Skilled Manual      M             M             1   \n",
       "4  Partial College  Skilled Manual      M             S             1   \n",
       "\n",
       "  NumberCarsOwned NumberChildrenAtHome TotalChildren  YearlyIncome  \\\n",
       "0               3                    0             1         81916   \n",
       "1               2                    1             2         81076   \n",
       "2               3                    0             0         86387   \n",
       "3               2                    1             2         61481   \n",
       "4               1                    0             0         51804   \n",
       "\n",
       "   LastUpdated  \n",
       "0   2017-03-06  \n",
       "1   2017-03-06  \n",
       "2   2017-03-06  \n",
       "3   2017-03-06  \n",
       "4   2017-03-06  \n",
       "\n",
       "[5 rows x 24 columns]"
      ]
     },
     "execution_count": 3,
     "metadata": {},
     "output_type": "execute_result"
    }
   ],
   "source": [
    "data_cus.head()"
   ]
  },
  {
   "cell_type": "code",
   "execution_count": 4,
   "id": "a42ecfc9",
   "metadata": {
    "execution": {
     "iopub.execute_input": "2024-08-28T13:42:48.104053Z",
     "iopub.status.busy": "2024-08-28T13:42:48.103570Z",
     "iopub.status.idle": "2024-08-28T13:42:48.111688Z",
     "shell.execute_reply": "2024-08-28T13:42:48.110582Z"
    },
    "papermill": {
     "duration": 0.022993,
     "end_time": "2024-08-28T13:42:48.114234",
     "exception": false,
     "start_time": "2024-08-28T13:42:48.091241",
     "status": "completed"
    },
    "tags": []
   },
   "outputs": [
    {
     "data": {
      "text/plain": [
       "Index(['CustomerID', 'BikeBuyer', 'AvgMonthSpend'], dtype='object')"
      ]
     },
     "execution_count": 4,
     "metadata": {},
     "output_type": "execute_result"
    }
   ],
   "source": [
    "data_sales.columns"
   ]
  },
  {
   "cell_type": "code",
   "execution_count": 5,
   "id": "d3f4803a",
   "metadata": {
    "execution": {
     "iopub.execute_input": "2024-08-28T13:42:48.137539Z",
     "iopub.status.busy": "2024-08-28T13:42:48.137080Z",
     "iopub.status.idle": "2024-08-28T13:42:48.145651Z",
     "shell.execute_reply": "2024-08-28T13:42:48.144464Z"
    },
    "papermill": {
     "duration": 0.023549,
     "end_time": "2024-08-28T13:42:48.148497",
     "exception": false,
     "start_time": "2024-08-28T13:42:48.124948",
     "status": "completed"
    },
    "tags": []
   },
   "outputs": [],
   "source": [
    "data_sales.drop(['CustomerID'],axis=1,inplace=True)"
   ]
  },
  {
   "cell_type": "code",
   "execution_count": 6,
   "id": "815fd2d0",
   "metadata": {
    "execution": {
     "iopub.execute_input": "2024-08-28T13:42:48.174985Z",
     "iopub.status.busy": "2024-08-28T13:42:48.173912Z",
     "iopub.status.idle": "2024-08-28T13:42:48.183844Z",
     "shell.execute_reply": "2024-08-28T13:42:48.182498Z"
    },
    "papermill": {
     "duration": 0.026274,
     "end_time": "2024-08-28T13:42:48.186731",
     "exception": false,
     "start_time": "2024-08-28T13:42:48.160457",
     "status": "completed"
    },
    "tags": []
   },
   "outputs": [],
   "source": [
    "df=pd.concat([data_cus,data_sales],axis=1)"
   ]
  },
  {
   "cell_type": "code",
   "execution_count": 7,
   "id": "74476a08",
   "metadata": {
    "execution": {
     "iopub.execute_input": "2024-08-28T13:42:48.210031Z",
     "iopub.status.busy": "2024-08-28T13:42:48.209586Z",
     "iopub.status.idle": "2024-08-28T13:42:48.239576Z",
     "shell.execute_reply": "2024-08-28T13:42:48.238313Z"
    },
    "papermill": {
     "duration": 0.045094,
     "end_time": "2024-08-28T13:42:48.242657",
     "exception": false,
     "start_time": "2024-08-28T13:42:48.197563",
     "status": "completed"
    },
    "tags": []
   },
   "outputs": [
    {
     "data": {
      "text/html": [
       "<div>\n",
       "<style scoped>\n",
       "    .dataframe tbody tr th:only-of-type {\n",
       "        vertical-align: middle;\n",
       "    }\n",
       "\n",
       "    .dataframe tbody tr th {\n",
       "        vertical-align: top;\n",
       "    }\n",
       "\n",
       "    .dataframe thead th {\n",
       "        text-align: right;\n",
       "    }\n",
       "</style>\n",
       "<table border=\"1\" class=\"dataframe\">\n",
       "  <thead>\n",
       "    <tr style=\"text-align: right;\">\n",
       "      <th></th>\n",
       "      <th>CustomerID</th>\n",
       "      <th>Title</th>\n",
       "      <th>FirstName</th>\n",
       "      <th>MiddleName</th>\n",
       "      <th>LastName</th>\n",
       "      <th>Suffix</th>\n",
       "      <th>AddressLine1</th>\n",
       "      <th>AddressLine2</th>\n",
       "      <th>City</th>\n",
       "      <th>StateProvinceName</th>\n",
       "      <th>...</th>\n",
       "      <th>Gender</th>\n",
       "      <th>MaritalStatus</th>\n",
       "      <th>HomeOwnerFlag</th>\n",
       "      <th>NumberCarsOwned</th>\n",
       "      <th>NumberChildrenAtHome</th>\n",
       "      <th>TotalChildren</th>\n",
       "      <th>YearlyIncome</th>\n",
       "      <th>LastUpdated</th>\n",
       "      <th>BikeBuyer</th>\n",
       "      <th>AvgMonthSpend</th>\n",
       "    </tr>\n",
       "  </thead>\n",
       "  <tbody>\n",
       "    <tr>\n",
       "      <th>0</th>\n",
       "      <td>21173</td>\n",
       "      <td>NaN</td>\n",
       "      <td>Chad</td>\n",
       "      <td>C</td>\n",
       "      <td>Yuan</td>\n",
       "      <td>NaN</td>\n",
       "      <td>7090 C. Mount Hood</td>\n",
       "      <td>NaN</td>\n",
       "      <td>Wollongong</td>\n",
       "      <td>New South Wales</td>\n",
       "      <td>...</td>\n",
       "      <td>M</td>\n",
       "      <td>M</td>\n",
       "      <td>1</td>\n",
       "      <td>3</td>\n",
       "      <td>0</td>\n",
       "      <td>1</td>\n",
       "      <td>81916</td>\n",
       "      <td>2017-03-06</td>\n",
       "      <td>1.0</td>\n",
       "      <td>50.97</td>\n",
       "    </tr>\n",
       "    <tr>\n",
       "      <th>1</th>\n",
       "      <td>13249</td>\n",
       "      <td>NaN</td>\n",
       "      <td>Ryan</td>\n",
       "      <td>NaN</td>\n",
       "      <td>Perry</td>\n",
       "      <td>NaN</td>\n",
       "      <td>3651 Willow Lake Rd</td>\n",
       "      <td>NaN</td>\n",
       "      <td>Shawnee</td>\n",
       "      <td>British Columbia</td>\n",
       "      <td>...</td>\n",
       "      <td>M</td>\n",
       "      <td>M</td>\n",
       "      <td>1</td>\n",
       "      <td>2</td>\n",
       "      <td>1</td>\n",
       "      <td>2</td>\n",
       "      <td>81076</td>\n",
       "      <td>2017-03-06</td>\n",
       "      <td>1.0</td>\n",
       "      <td>53.11</td>\n",
       "    </tr>\n",
       "    <tr>\n",
       "      <th>2</th>\n",
       "      <td>29350</td>\n",
       "      <td>NaN</td>\n",
       "      <td>Julia</td>\n",
       "      <td>NaN</td>\n",
       "      <td>Thompson</td>\n",
       "      <td>NaN</td>\n",
       "      <td>1774 Tice Valley Blvd.</td>\n",
       "      <td>NaN</td>\n",
       "      <td>West Covina</td>\n",
       "      <td>California</td>\n",
       "      <td>...</td>\n",
       "      <td>F</td>\n",
       "      <td>S</td>\n",
       "      <td>0</td>\n",
       "      <td>3</td>\n",
       "      <td>0</td>\n",
       "      <td>0</td>\n",
       "      <td>86387</td>\n",
       "      <td>2017-03-06</td>\n",
       "      <td>1.0</td>\n",
       "      <td>54.08</td>\n",
       "    </tr>\n",
       "    <tr>\n",
       "      <th>3</th>\n",
       "      <td>13503</td>\n",
       "      <td>NaN</td>\n",
       "      <td>Theodore</td>\n",
       "      <td>NaN</td>\n",
       "      <td>Gomez</td>\n",
       "      <td>NaN</td>\n",
       "      <td>2103 Baldwin Dr</td>\n",
       "      <td>NaN</td>\n",
       "      <td>Liverpool</td>\n",
       "      <td>England</td>\n",
       "      <td>...</td>\n",
       "      <td>M</td>\n",
       "      <td>M</td>\n",
       "      <td>1</td>\n",
       "      <td>2</td>\n",
       "      <td>1</td>\n",
       "      <td>2</td>\n",
       "      <td>61481</td>\n",
       "      <td>2017-03-06</td>\n",
       "      <td>1.0</td>\n",
       "      <td>56.93</td>\n",
       "    </tr>\n",
       "    <tr>\n",
       "      <th>4</th>\n",
       "      <td>22803</td>\n",
       "      <td>NaN</td>\n",
       "      <td>Marshall</td>\n",
       "      <td>J</td>\n",
       "      <td>Shan</td>\n",
       "      <td>NaN</td>\n",
       "      <td>Am Gallberg 234</td>\n",
       "      <td>NaN</td>\n",
       "      <td>Werne</td>\n",
       "      <td>Nordrhein-Westfalen</td>\n",
       "      <td>...</td>\n",
       "      <td>M</td>\n",
       "      <td>S</td>\n",
       "      <td>1</td>\n",
       "      <td>1</td>\n",
       "      <td>0</td>\n",
       "      <td>0</td>\n",
       "      <td>51804</td>\n",
       "      <td>2017-03-06</td>\n",
       "      <td>1.0</td>\n",
       "      <td>55.41</td>\n",
       "    </tr>\n",
       "  </tbody>\n",
       "</table>\n",
       "<p>5 rows × 26 columns</p>\n",
       "</div>"
      ],
      "text/plain": [
       "   CustomerID Title FirstName MiddleName  LastName Suffix  \\\n",
       "0       21173   NaN      Chad          C      Yuan    NaN   \n",
       "1       13249   NaN      Ryan        NaN     Perry    NaN   \n",
       "2       29350   NaN     Julia        NaN  Thompson    NaN   \n",
       "3       13503   NaN  Theodore        NaN     Gomez    NaN   \n",
       "4       22803   NaN  Marshall          J      Shan    NaN   \n",
       "\n",
       "             AddressLine1 AddressLine2         City    StateProvinceName  ...  \\\n",
       "0      7090 C. Mount Hood          NaN   Wollongong      New South Wales  ...   \n",
       "1     3651 Willow Lake Rd          NaN      Shawnee     British Columbia  ...   \n",
       "2  1774 Tice Valley Blvd.          NaN  West Covina           California  ...   \n",
       "3         2103 Baldwin Dr          NaN    Liverpool              England  ...   \n",
       "4         Am Gallberg 234          NaN        Werne  Nordrhein-Westfalen  ...   \n",
       "\n",
       "  Gender MaritalStatus HomeOwnerFlag NumberCarsOwned NumberChildrenAtHome  \\\n",
       "0      M             M             1               3                    0   \n",
       "1      M             M             1               2                    1   \n",
       "2      F             S             0               3                    0   \n",
       "3      M             M             1               2                    1   \n",
       "4      M             S             1               1                    0   \n",
       "\n",
       "  TotalChildren YearlyIncome LastUpdated  BikeBuyer  AvgMonthSpend  \n",
       "0             1        81916  2017-03-06        1.0          50.97  \n",
       "1             2        81076  2017-03-06        1.0          53.11  \n",
       "2             0        86387  2017-03-06        1.0          54.08  \n",
       "3             2        61481  2017-03-06        1.0          56.93  \n",
       "4             0        51804  2017-03-06        1.0          55.41  \n",
       "\n",
       "[5 rows x 26 columns]"
      ]
     },
     "execution_count": 7,
     "metadata": {},
     "output_type": "execute_result"
    }
   ],
   "source": [
    "df.head()"
   ]
  },
  {
   "cell_type": "code",
   "execution_count": 8,
   "id": "3786aaeb",
   "metadata": {
    "execution": {
     "iopub.execute_input": "2024-08-28T13:42:48.266825Z",
     "iopub.status.busy": "2024-08-28T13:42:48.266389Z",
     "iopub.status.idle": "2024-08-28T13:42:48.277445Z",
     "shell.execute_reply": "2024-08-28T13:42:48.276195Z"
    },
    "papermill": {
     "duration": 0.026489,
     "end_time": "2024-08-28T13:42:48.280325",
     "exception": false,
     "start_time": "2024-08-28T13:42:48.253836",
     "status": "completed"
    },
    "tags": []
   },
   "outputs": [],
   "source": [
    "df.drop(['Title','Suffix','Education','Occupation','PhoneNumber','MiddleName','AddressLine2'],axis=1,inplace=True)"
   ]
  },
  {
   "cell_type": "code",
   "execution_count": 9,
   "id": "e7ac3b63",
   "metadata": {
    "execution": {
     "iopub.execute_input": "2024-08-28T13:42:48.305172Z",
     "iopub.status.busy": "2024-08-28T13:42:48.304646Z",
     "iopub.status.idle": "2024-08-28T13:42:48.312641Z",
     "shell.execute_reply": "2024-08-28T13:42:48.311443Z"
    },
    "papermill": {
     "duration": 0.023767,
     "end_time": "2024-08-28T13:42:48.315363",
     "exception": false,
     "start_time": "2024-08-28T13:42:48.291596",
     "status": "completed"
    },
    "tags": []
   },
   "outputs": [
    {
     "data": {
      "text/plain": [
       "Index(['CustomerID', 'FirstName', 'LastName', 'AddressLine1', 'City',\n",
       "       'StateProvinceName', 'CountryRegionName', 'PostalCode', 'BirthDate',\n",
       "       'Gender', 'MaritalStatus', 'HomeOwnerFlag', 'NumberCarsOwned',\n",
       "       'NumberChildrenAtHome', 'TotalChildren', 'YearlyIncome', 'LastUpdated',\n",
       "       'BikeBuyer', 'AvgMonthSpend'],\n",
       "      dtype='object')"
      ]
     },
     "execution_count": 9,
     "metadata": {},
     "output_type": "execute_result"
    }
   ],
   "source": [
    "df.columns"
   ]
  },
  {
   "cell_type": "code",
   "execution_count": 10,
   "id": "3c7946fe",
   "metadata": {
    "execution": {
     "iopub.execute_input": "2024-08-28T13:42:48.339688Z",
     "iopub.status.busy": "2024-08-28T13:42:48.339218Z",
     "iopub.status.idle": "2024-08-28T13:42:48.384591Z",
     "shell.execute_reply": "2024-08-28T13:42:48.383272Z"
    },
    "papermill": {
     "duration": 0.060565,
     "end_time": "2024-08-28T13:42:48.387200",
     "exception": false,
     "start_time": "2024-08-28T13:42:48.326635",
     "status": "completed"
    },
    "tags": []
   },
   "outputs": [
    {
     "data": {
      "text/html": [
       "<div>\n",
       "<style scoped>\n",
       "    .dataframe tbody tr th:only-of-type {\n",
       "        vertical-align: middle;\n",
       "    }\n",
       "\n",
       "    .dataframe tbody tr th {\n",
       "        vertical-align: top;\n",
       "    }\n",
       "\n",
       "    .dataframe thead th {\n",
       "        text-align: right;\n",
       "    }\n",
       "</style>\n",
       "<table border=\"1\" class=\"dataframe\">\n",
       "  <thead>\n",
       "    <tr style=\"text-align: right;\">\n",
       "      <th></th>\n",
       "      <th>CustomerID</th>\n",
       "      <th>HomeOwnerFlag</th>\n",
       "      <th>NumberCarsOwned</th>\n",
       "      <th>NumberChildrenAtHome</th>\n",
       "      <th>TotalChildren</th>\n",
       "      <th>YearlyIncome</th>\n",
       "      <th>BikeBuyer</th>\n",
       "      <th>AvgMonthSpend</th>\n",
       "    </tr>\n",
       "  </thead>\n",
       "  <tbody>\n",
       "    <tr>\n",
       "      <th>count</th>\n",
       "      <td>18361.000000</td>\n",
       "      <td>18361.000000</td>\n",
       "      <td>18361.000000</td>\n",
       "      <td>18361.000000</td>\n",
       "      <td>18361.000000</td>\n",
       "      <td>18361.000000</td>\n",
       "      <td>18355.00000</td>\n",
       "      <td>18355.000000</td>\n",
       "    </tr>\n",
       "    <tr>\n",
       "      <th>mean</th>\n",
       "      <td>20241.987092</td>\n",
       "      <td>0.610588</td>\n",
       "      <td>1.270301</td>\n",
       "      <td>0.338162</td>\n",
       "      <td>0.850389</td>\n",
       "      <td>72754.779642</td>\n",
       "      <td>0.55173</td>\n",
       "      <td>51.767207</td>\n",
       "    </tr>\n",
       "    <tr>\n",
       "      <th>std</th>\n",
       "      <td>5336.332731</td>\n",
       "      <td>0.487630</td>\n",
       "      <td>0.913989</td>\n",
       "      <td>0.568957</td>\n",
       "      <td>0.927315</td>\n",
       "      <td>30686.014313</td>\n",
       "      <td>0.49733</td>\n",
       "      <td>3.438024</td>\n",
       "    </tr>\n",
       "    <tr>\n",
       "      <th>min</th>\n",
       "      <td>11000.000000</td>\n",
       "      <td>0.000000</td>\n",
       "      <td>0.000000</td>\n",
       "      <td>0.000000</td>\n",
       "      <td>0.000000</td>\n",
       "      <td>25435.000000</td>\n",
       "      <td>0.00000</td>\n",
       "      <td>44.100000</td>\n",
       "    </tr>\n",
       "    <tr>\n",
       "      <th>25%</th>\n",
       "      <td>15621.000000</td>\n",
       "      <td>0.000000</td>\n",
       "      <td>1.000000</td>\n",
       "      <td>0.000000</td>\n",
       "      <td>0.000000</td>\n",
       "      <td>53312.000000</td>\n",
       "      <td>0.00000</td>\n",
       "      <td>49.410000</td>\n",
       "    </tr>\n",
       "    <tr>\n",
       "      <th>50%</th>\n",
       "      <td>20248.000000</td>\n",
       "      <td>1.000000</td>\n",
       "      <td>1.000000</td>\n",
       "      <td>0.000000</td>\n",
       "      <td>0.000000</td>\n",
       "      <td>61851.000000</td>\n",
       "      <td>1.00000</td>\n",
       "      <td>51.420000</td>\n",
       "    </tr>\n",
       "    <tr>\n",
       "      <th>75%</th>\n",
       "      <td>24863.000000</td>\n",
       "      <td>1.000000</td>\n",
       "      <td>2.000000</td>\n",
       "      <td>1.000000</td>\n",
       "      <td>2.000000</td>\n",
       "      <td>87410.000000</td>\n",
       "      <td>1.00000</td>\n",
       "      <td>53.600000</td>\n",
       "    </tr>\n",
       "    <tr>\n",
       "      <th>max</th>\n",
       "      <td>29483.000000</td>\n",
       "      <td>1.000000</td>\n",
       "      <td>5.000000</td>\n",
       "      <td>3.000000</td>\n",
       "      <td>3.000000</td>\n",
       "      <td>139115.000000</td>\n",
       "      <td>1.00000</td>\n",
       "      <td>65.290000</td>\n",
       "    </tr>\n",
       "  </tbody>\n",
       "</table>\n",
       "</div>"
      ],
      "text/plain": [
       "         CustomerID  HomeOwnerFlag  NumberCarsOwned  NumberChildrenAtHome  \\\n",
       "count  18361.000000   18361.000000     18361.000000          18361.000000   \n",
       "mean   20241.987092       0.610588         1.270301              0.338162   \n",
       "std     5336.332731       0.487630         0.913989              0.568957   \n",
       "min    11000.000000       0.000000         0.000000              0.000000   \n",
       "25%    15621.000000       0.000000         1.000000              0.000000   \n",
       "50%    20248.000000       1.000000         1.000000              0.000000   \n",
       "75%    24863.000000       1.000000         2.000000              1.000000   \n",
       "max    29483.000000       1.000000         5.000000              3.000000   \n",
       "\n",
       "       TotalChildren   YearlyIncome    BikeBuyer  AvgMonthSpend  \n",
       "count   18361.000000   18361.000000  18355.00000   18355.000000  \n",
       "mean        0.850389   72754.779642      0.55173      51.767207  \n",
       "std         0.927315   30686.014313      0.49733       3.438024  \n",
       "min         0.000000   25435.000000      0.00000      44.100000  \n",
       "25%         0.000000   53312.000000      0.00000      49.410000  \n",
       "50%         0.000000   61851.000000      1.00000      51.420000  \n",
       "75%         2.000000   87410.000000      1.00000      53.600000  \n",
       "max         3.000000  139115.000000      1.00000      65.290000  "
      ]
     },
     "execution_count": 10,
     "metadata": {},
     "output_type": "execute_result"
    }
   ],
   "source": [
    "df.describe()"
   ]
  },
  {
   "cell_type": "code",
   "execution_count": 11,
   "id": "0fc3612a",
   "metadata": {
    "execution": {
     "iopub.execute_input": "2024-08-28T13:42:48.413027Z",
     "iopub.status.busy": "2024-08-28T13:42:48.412124Z",
     "iopub.status.idle": "2024-08-28T13:42:48.458449Z",
     "shell.execute_reply": "2024-08-28T13:42:48.457046Z"
    },
    "papermill": {
     "duration": 0.062221,
     "end_time": "2024-08-28T13:42:48.461261",
     "exception": false,
     "start_time": "2024-08-28T13:42:48.399040",
     "status": "completed"
    },
    "tags": []
   },
   "outputs": [
    {
     "name": "stdout",
     "output_type": "stream",
     "text": [
      "<class 'pandas.core.frame.DataFrame'>\n",
      "RangeIndex: 18361 entries, 0 to 18360\n",
      "Data columns (total 19 columns):\n",
      " #   Column                Non-Null Count  Dtype  \n",
      "---  ------                --------------  -----  \n",
      " 0   CustomerID            18361 non-null  int64  \n",
      " 1   FirstName             18361 non-null  object \n",
      " 2   LastName              18361 non-null  object \n",
      " 3   AddressLine1          18361 non-null  object \n",
      " 4   City                  18361 non-null  object \n",
      " 5   StateProvinceName     18361 non-null  object \n",
      " 6   CountryRegionName     18361 non-null  object \n",
      " 7   PostalCode            18361 non-null  object \n",
      " 8   BirthDate             18361 non-null  object \n",
      " 9   Gender                18361 non-null  object \n",
      " 10  MaritalStatus         18361 non-null  object \n",
      " 11  HomeOwnerFlag         18361 non-null  int64  \n",
      " 12  NumberCarsOwned       18361 non-null  int64  \n",
      " 13  NumberChildrenAtHome  18361 non-null  int64  \n",
      " 14  TotalChildren         18361 non-null  int64  \n",
      " 15  YearlyIncome          18361 non-null  int64  \n",
      " 16  LastUpdated           18361 non-null  object \n",
      " 17  BikeBuyer             18355 non-null  float64\n",
      " 18  AvgMonthSpend         18355 non-null  float64\n",
      "dtypes: float64(2), int64(6), object(11)\n",
      "memory usage: 2.7+ MB\n"
     ]
    }
   ],
   "source": [
    "df.info()"
   ]
  },
  {
   "cell_type": "code",
   "execution_count": 12,
   "id": "612a6d83",
   "metadata": {
    "execution": {
     "iopub.execute_input": "2024-08-28T13:42:48.487780Z",
     "iopub.status.busy": "2024-08-28T13:42:48.486791Z",
     "iopub.status.idle": "2024-08-28T13:42:48.495350Z",
     "shell.execute_reply": "2024-08-28T13:42:48.494068Z"
    },
    "papermill": {
     "duration": 0.02464,
     "end_time": "2024-08-28T13:42:48.498028",
     "exception": false,
     "start_time": "2024-08-28T13:42:48.473388",
     "status": "completed"
    },
    "tags": []
   },
   "outputs": [
    {
     "name": "stdout",
     "output_type": "stream",
     "text": [
      "Discrete Variables:  ['CustomerID', 'HomeOwnerFlag', 'NumberCarsOwned', 'NumberChildrenAtHome', 'TotalChildren', 'YearlyIncome']\n",
      "Continuous variables:  ['BikeBuyer', 'AvgMonthSpend']\n"
     ]
    }
   ],
   "source": [
    "var_cat=[]\n",
    "var_num=[]\n",
    "for c in df.columns:\n",
    "    if df[c].dtype=='float64':\n",
    "        var_cat.append(c)\n",
    "    if df[c].dtype=='int64':\n",
    "         var_num.append(c)\n",
    "\n",
    "print(\"Discrete Variables: \",var_num)\n",
    "print(\"Continuous variables: \",var_cat)"
   ]
  },
  {
   "cell_type": "code",
   "execution_count": 13,
   "id": "c15eac7c",
   "metadata": {
    "execution": {
     "iopub.execute_input": "2024-08-28T13:42:48.523979Z",
     "iopub.status.busy": "2024-08-28T13:42:48.523532Z",
     "iopub.status.idle": "2024-08-28T13:42:48.531693Z",
     "shell.execute_reply": "2024-08-28T13:42:48.530560Z"
    },
    "papermill": {
     "duration": 0.024303,
     "end_time": "2024-08-28T13:42:48.534493",
     "exception": false,
     "start_time": "2024-08-28T13:42:48.510190",
     "status": "completed"
    },
    "tags": []
   },
   "outputs": [
    {
     "name": "stdout",
     "output_type": "stream",
     "text": [
      "Nominal:  ['CustomerID', 'FirstName', 'LastName', 'AddressLine1', 'City', 'StateProvinceName', 'CountryRegionName', 'PostalCode', 'Gender', 'MaritalStatus', 'HomeOwnerFlag', 'BikeBuyer']\n",
      "Ordinal:  []\n",
      "Ratio:  ['NumberCarsOwned', 'NumberChildrenAtHome', 'TotalChildren', 'YearlyIncome', 'AvgMonthSpend']\n",
      "Interval:  ['BirthDate']\n"
     ]
    }
   ],
   "source": [
    "Nominal = [\n",
    "    'CustomerID',\n",
    "    'FirstName',\n",
    "    'LastName',\n",
    "    'AddressLine1',\n",
    "    'City',\n",
    "    'StateProvinceName',\n",
    "    'CountryRegionName',\n",
    "    'PostalCode',\n",
    "    'Gender',\n",
    "    'MaritalStatus',\n",
    "    'HomeOwnerFlag',\n",
    "    'BikeBuyer'\n",
    "]\n",
    "Ordinal=[]\n",
    "Ratio = [\n",
    "    'NumberCarsOwned',\n",
    "    'NumberChildrenAtHome',\n",
    "    'TotalChildren',\n",
    "    'YearlyIncome',\n",
    "    'AvgMonthSpend'\n",
    "]\n",
    "Interval=['BirthDate']\n",
    "print(\"Nominal: \",Nominal)\n",
    "print(\"Ordinal: \",Ordinal)\n",
    "print(\"Ratio: \",Ratio)\n",
    "print(\"Interval: \",Interval)"
   ]
  },
  {
   "cell_type": "markdown",
   "id": "dcaa27df",
   "metadata": {
    "papermill": {
     "duration": 0.011439,
     "end_time": "2024-08-28T13:42:48.557977",
     "exception": false,
     "start_time": "2024-08-28T13:42:48.546538",
     "status": "completed"
    },
    "tags": []
   },
   "source": [
    "# Q2"
   ]
  },
  {
   "cell_type": "markdown",
   "id": "195b0756",
   "metadata": {
    "papermill": {
     "duration": 0.011494,
     "end_time": "2024-08-28T13:42:48.581245",
     "exception": false,
     "start_time": "2024-08-28T13:42:48.569751",
     "status": "completed"
    },
    "tags": []
   },
   "source": [
    "### (a) Handling Null values"
   ]
  },
  {
   "cell_type": "code",
   "execution_count": 14,
   "id": "9d35b0bc",
   "metadata": {
    "execution": {
     "iopub.execute_input": "2024-08-28T13:42:48.607563Z",
     "iopub.status.busy": "2024-08-28T13:42:48.606417Z",
     "iopub.status.idle": "2024-08-28T13:42:48.654046Z",
     "shell.execute_reply": "2024-08-28T13:42:48.652944Z"
    },
    "papermill": {
     "duration": 0.063767,
     "end_time": "2024-08-28T13:42:48.656908",
     "exception": false,
     "start_time": "2024-08-28T13:42:48.593141",
     "status": "completed"
    },
    "tags": []
   },
   "outputs": [],
   "source": [
    "numerical_features = ['YearlyIncome', 'AvgMonthSpend', 'NumberCarsOwned', 'NumberChildrenAtHome', 'TotalChildren']\n",
    "categorical_features = ['Gender', 'MaritalStatus', 'HomeOwnerFlag', 'BikeBuyer']\n",
    "\n",
    "numerical_imputer = SimpleImputer(strategy='mean')\n",
    "categorical_imputer = SimpleImputer(strategy='most_frequent')\n",
    "\n",
    "df[numerical_features] = numerical_imputer.fit_transform(df[numerical_features])\n",
    "df[categorical_features] = categorical_imputer.fit_transform(df[categorical_features])"
   ]
  },
  {
   "cell_type": "markdown",
   "id": "cffe0ebf",
   "metadata": {
    "papermill": {
     "duration": 0.011586,
     "end_time": "2024-08-28T13:42:48.680644",
     "exception": false,
     "start_time": "2024-08-28T13:42:48.669058",
     "status": "completed"
    },
    "tags": []
   },
   "source": [
    "### (b) Normalization "
   ]
  },
  {
   "cell_type": "code",
   "execution_count": 15,
   "id": "5c207266",
   "metadata": {
    "execution": {
     "iopub.execute_input": "2024-08-28T13:42:48.709776Z",
     "iopub.status.busy": "2024-08-28T13:42:48.709314Z",
     "iopub.status.idle": "2024-08-28T13:42:48.725497Z",
     "shell.execute_reply": "2024-08-28T13:42:48.723734Z"
    },
    "papermill": {
     "duration": 0.037241,
     "end_time": "2024-08-28T13:42:48.729670",
     "exception": false,
     "start_time": "2024-08-28T13:42:48.692429",
     "status": "completed"
    },
    "tags": []
   },
   "outputs": [],
   "source": [
    "scaler = MinMaxScaler()\n",
    "df[numerical_features] = scaler.fit_transform(df[numerical_features])"
   ]
  },
  {
   "cell_type": "markdown",
   "id": "5e45397c",
   "metadata": {
    "papermill": {
     "duration": 0.01177,
     "end_time": "2024-08-28T13:42:48.758120",
     "exception": false,
     "start_time": "2024-08-28T13:42:48.746350",
     "status": "completed"
    },
    "tags": []
   },
   "source": [
    "### (c) Discretization (Binning) on Continuous attributes or Categorical Attributes with too many different values"
   ]
  },
  {
   "cell_type": "code",
   "execution_count": 16,
   "id": "e040e84f",
   "metadata": {
    "execution": {
     "iopub.execute_input": "2024-08-28T13:42:48.784671Z",
     "iopub.status.busy": "2024-08-28T13:42:48.784069Z",
     "iopub.status.idle": "2024-08-28T13:42:48.798488Z",
     "shell.execute_reply": "2024-08-28T13:42:48.797099Z"
    },
    "papermill": {
     "duration": 0.03115,
     "end_time": "2024-08-28T13:42:48.801512",
     "exception": false,
     "start_time": "2024-08-28T13:42:48.770362",
     "status": "completed"
    },
    "tags": []
   },
   "outputs": [],
   "source": [
    "binning_transformer = KBinsDiscretizer(n_bins=3, encode='ordinal', strategy='uniform')\n",
    "df['YearlyIncome_Binned'] = binning_transformer.fit_transform(df[['YearlyIncome']])"
   ]
  },
  {
   "cell_type": "markdown",
   "id": "d04842e4",
   "metadata": {
    "papermill": {
     "duration": 0.011872,
     "end_time": "2024-08-28T13:42:48.826222",
     "exception": false,
     "start_time": "2024-08-28T13:42:48.814350",
     "status": "completed"
    },
    "tags": []
   },
   "source": [
    "### (d) Standardization/Normalization"
   ]
  },
  {
   "cell_type": "code",
   "execution_count": 17,
   "id": "65eb2018",
   "metadata": {
    "execution": {
     "iopub.execute_input": "2024-08-28T13:42:48.852938Z",
     "iopub.status.busy": "2024-08-28T13:42:48.851688Z",
     "iopub.status.idle": "2024-08-28T13:42:48.868914Z",
     "shell.execute_reply": "2024-08-28T13:42:48.867134Z"
    },
    "papermill": {
     "duration": 0.034139,
     "end_time": "2024-08-28T13:42:48.872424",
     "exception": false,
     "start_time": "2024-08-28T13:42:48.838285",
     "status": "completed"
    },
    "tags": []
   },
   "outputs": [],
   "source": [
    "standard_scaler = StandardScaler()\n",
    "df[numerical_features] = standard_scaler.fit_transform(df[numerical_features])"
   ]
  },
  {
   "cell_type": "markdown",
   "id": "41343b1c",
   "metadata": {
    "papermill": {
     "duration": 0.01402,
     "end_time": "2024-08-28T13:42:48.899405",
     "exception": false,
     "start_time": "2024-08-28T13:42:48.885385",
     "status": "completed"
    },
    "tags": []
   },
   "source": [
    "### (e) Binarization (One Hot Encoding)"
   ]
  },
  {
   "cell_type": "code",
   "execution_count": 18,
   "id": "906078c5",
   "metadata": {
    "execution": {
     "iopub.execute_input": "2024-08-28T13:42:48.932318Z",
     "iopub.status.busy": "2024-08-28T13:42:48.931729Z",
     "iopub.status.idle": "2024-08-28T13:42:49.013712Z",
     "shell.execute_reply": "2024-08-28T13:42:49.012304Z"
    },
    "papermill": {
     "duration": 0.101103,
     "end_time": "2024-08-28T13:42:49.016606",
     "exception": false,
     "start_time": "2024-08-28T13:42:48.915503",
     "status": "completed"
    },
    "tags": []
   },
   "outputs": [
    {
     "name": "stderr",
     "output_type": "stream",
     "text": [
      "/opt/conda/lib/python3.10/site-packages/sklearn/preprocessing/_encoders.py:868: FutureWarning: `sparse` was renamed to `sparse_output` in version 1.2 and will be removed in 1.4. `sparse_output` is ignored unless you leave `sparse` to its default value.\n",
      "  warnings.warn(\n"
     ]
    }
   ],
   "source": [
    "encoder = OneHotEncoder(sparse=False)\n",
    "encoded_categorical_features = encoder.fit_transform(df[categorical_features])\n",
    "encoded_df = pd.DataFrame(encoded_categorical_features, columns=encoder.get_feature_names_out(categorical_features))\n",
    "df = pd.concat([df, encoded_df], axis=1).drop(categorical_features, axis=1)"
   ]
  },
  {
   "cell_type": "markdown",
   "id": "eacf1ec9",
   "metadata": {
    "papermill": {
     "duration": 0.012245,
     "end_time": "2024-08-28T13:42:49.042419",
     "exception": false,
     "start_time": "2024-08-28T13:42:49.030174",
     "status": "completed"
    },
    "tags": []
   },
   "source": [
    "# Q3"
   ]
  },
  {
   "cell_type": "markdown",
   "id": "fb6d971a",
   "metadata": {
    "papermill": {
     "duration": 0.01299,
     "end_time": "2024-08-28T13:42:49.068238",
     "exception": false,
     "start_time": "2024-08-28T13:42:49.055248",
     "status": "completed"
    },
    "tags": []
   },
   "source": [
    "### (a) Calculate Similarity in Simple Matching, Jaccard Similarity, and Cosine Similarity between two following objects of your transformed input data."
   ]
  },
  {
   "cell_type": "code",
   "execution_count": 19,
   "id": "d263f7df",
   "metadata": {
    "execution": {
     "iopub.execute_input": "2024-08-28T13:42:49.103011Z",
     "iopub.status.busy": "2024-08-28T13:42:49.102030Z",
     "iopub.status.idle": "2024-08-28T13:42:49.108652Z",
     "shell.execute_reply": "2024-08-28T13:42:49.107400Z"
    },
    "papermill": {
     "duration": 0.029354,
     "end_time": "2024-08-28T13:42:49.111964",
     "exception": false,
     "start_time": "2024-08-28T13:42:49.082610",
     "status": "completed"
    },
    "tags": []
   },
   "outputs": [],
   "source": [
    "def jaccard(list1, list2):\n",
    "    intersection = len(list(set(list1).intersection(list2)))\n",
    "    union = (len(list1) + len(list2)) - intersection\n",
    "    return float(intersection) / union"
   ]
  },
  {
   "cell_type": "code",
   "execution_count": 20,
   "id": "1923d725",
   "metadata": {
    "execution": {
     "iopub.execute_input": "2024-08-28T13:42:49.143342Z",
     "iopub.status.busy": "2024-08-28T13:42:49.142826Z",
     "iopub.status.idle": "2024-08-28T13:42:49.163096Z",
     "shell.execute_reply": "2024-08-28T13:42:49.161663Z"
    },
    "papermill": {
     "duration": 0.037159,
     "end_time": "2024-08-28T13:42:49.166390",
     "exception": false,
     "start_time": "2024-08-28T13:42:49.129231",
     "status": "completed"
    },
    "tags": []
   },
   "outputs": [
    {
     "data": {
      "text/plain": [
       "0.0"
      ]
     },
     "execution_count": 20,
     "metadata": {},
     "output_type": "execute_result"
    }
   ],
   "source": [
    "jaccard(df['YearlyIncome'],df['AvgMonthSpend'])"
   ]
  },
  {
   "cell_type": "code",
   "execution_count": 21,
   "id": "aa21895c",
   "metadata": {
    "execution": {
     "iopub.execute_input": "2024-08-28T13:42:49.195364Z",
     "iopub.status.busy": "2024-08-28T13:42:49.193897Z",
     "iopub.status.idle": "2024-08-28T13:42:49.238424Z",
     "shell.execute_reply": "2024-08-28T13:42:49.236604Z"
    },
    "papermill": {
     "duration": 0.064629,
     "end_time": "2024-08-28T13:42:49.244349",
     "exception": false,
     "start_time": "2024-08-28T13:42:49.179720",
     "status": "completed"
    },
    "tags": []
   },
   "outputs": [
    {
     "name": "stdout",
     "output_type": "stream",
     "text": [
      "Jaccard Similarity between NumberChildrenAtHome_Binary and BikeBuyer_0.0: 0.2138122536725188\n",
      "Jaccard Similarity between NumberChildrenAtHome_Binary and BikeBuyer_1.0: 0.23450479233226837\n"
     ]
    }
   ],
   "source": [
    "df['NumberChildrenAtHome_Binary'] = (df['NumberChildrenAtHome'] > 0).astype(int)\n",
    "# Compute Jaccard Similarity between 'NumberChildrenAtHome_Binary' and each 'BikeBuyer' column\n",
    "for bike_buyer_col in ['BikeBuyer_0.0', 'BikeBuyer_1.0']:\n",
    "    jaccard_sim = jaccard_score(df['NumberChildrenAtHome_Binary'], df[bike_buyer_col])\n",
    "    print(f\"Jaccard Similarity between NumberChildrenAtHome_Binary and {bike_buyer_col}: {jaccard_sim}\")"
   ]
  },
  {
   "cell_type": "markdown",
   "id": "f9520e3a",
   "metadata": {
    "papermill": {
     "duration": 0.012423,
     "end_time": "2024-08-28T13:42:49.269492",
     "exception": false,
     "start_time": "2024-08-28T13:42:49.257069",
     "status": "completed"
    },
    "tags": []
   },
   "source": [
    "### (b) Calculate Correlation between two features Commute Distance and Yearly Income"
   ]
  },
  {
   "cell_type": "code",
   "execution_count": 22,
   "id": "d780ab2e",
   "metadata": {
    "execution": {
     "iopub.execute_input": "2024-08-28T13:42:49.296950Z",
     "iopub.status.busy": "2024-08-28T13:42:49.295794Z",
     "iopub.status.idle": "2024-08-28T13:42:49.309129Z",
     "shell.execute_reply": "2024-08-28T13:42:49.307752Z"
    },
    "papermill": {
     "duration": 0.030357,
     "end_time": "2024-08-28T13:42:49.312636",
     "exception": false,
     "start_time": "2024-08-28T13:42:49.282279",
     "status": "completed"
    },
    "tags": []
   },
   "outputs": [
    {
     "data": {
      "text/plain": [
       "0.012200386558915565"
      ]
     },
     "execution_count": 22,
     "metadata": {},
     "output_type": "execute_result"
    }
   ],
   "source": [
    "df['YearlyIncome'].corr(df['AvgMonthSpend'])"
   ]
  }
 ],
 "metadata": {
  "kaggle": {
   "accelerator": "none",
   "dataSources": [
    {
     "datasetId": 28601,
     "sourceId": 36449,
     "sourceType": "datasetVersion"
    }
   ],
   "dockerImageVersionId": 30761,
   "isGpuEnabled": false,
   "isInternetEnabled": true,
   "language": "python",
   "sourceType": "notebook"
  },
  "kernelspec": {
   "display_name": "Python [conda env:base] *",
   "language": "python",
   "name": "conda-base-py"
  },
  "language_info": {
   "codemirror_mode": {
    "name": "ipython",
    "version": 3
   },
   "file_extension": ".py",
   "mimetype": "text/x-python",
   "name": "python",
   "nbconvert_exporter": "python",
   "pygments_lexer": "ipython3",
   "version": "3.13.5"
  },
  "papermill": {
   "default_parameters": {},
   "duration": 8.37354,
   "end_time": "2024-08-28T13:42:50.053438",
   "environment_variables": {},
   "exception": null,
   "input_path": "__notebook__.ipynb",
   "output_path": "__notebook__.ipynb",
   "parameters": {},
   "start_time": "2024-08-28T13:42:41.679898",
   "version": "2.6.0"
  }
 },
 "nbformat": 4,
 "nbformat_minor": 5
}
