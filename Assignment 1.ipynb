{
 "cells": [
  {
   "cell_type": "markdown",
   "id": "ac4dbecb-9a8f-4577-b34f-6378ef91dcc2",
   "metadata": {},
   "source": [
    "q1"
   ]
  },
  {
   "cell_type": "code",
   "execution_count": 5,
   "id": "3714b4b5-5031-4d42-8683-86b143e58ae0",
   "metadata": {},
   "outputs": [
    {
     "name": "stdout",
     "output_type": "stream",
     "text": [
      "[5 4 6 3 2 1]\n"
     ]
    }
   ],
   "source": [
    "# 1 a)\n",
    "import numpy as np\n",
    "arr = np.array([1, 2, 3, 6, 4, 5])\n",
    "arr2 = np.flip(arr)\n",
    "print(arr2)"
   ]
  },
  {
   "cell_type": "code",
   "execution_count": 6,
   "id": "5c3daec6-76ec-403e-8c4c-a4f23688ce84",
   "metadata": {},
   "outputs": [
    {
     "data": {
      "text/plain": [
       "array([1, 2, 3, 2, 4, 5, 1, 2, 3])"
      ]
     },
     "execution_count": 6,
     "metadata": {},
     "output_type": "execute_result"
    }
   ],
   "source": [
    "# 1 b)\n",
    "array1 = np.array([[1, 2, 3], [2, 4, 5], [1, 2, 3]])\n",
    "arr2 = array1.flatten()\n",
    "arr2"
   ]
  },
  {
   "cell_type": "code",
   "execution_count": 12,
   "id": "5f46def7-f92c-43d7-b051-0cda762a5c6e",
   "metadata": {},
   "outputs": [
    {
     "data": {
      "text/plain": [
       "True"
      ]
     },
     "execution_count": 12,
     "metadata": {},
     "output_type": "execute_result"
    }
   ],
   "source": [
    "# 1 c)\n",
    "arr1 = np.array([[1, 2], [3, 4]]) \n",
    "arr2 = np.array([[1, 2], [3, 4]]) \n",
    "np.array_equal(arr1,arr2)"
   ]
  },
  {
   "cell_type": "code",
   "execution_count": 17,
   "id": "95133500-2cde-4546-965e-adb9e89981e1",
   "metadata": {},
   "outputs": [
    {
     "name": "stdout",
     "output_type": "stream",
     "text": [
      "max occuring is 1 and its indexes are [0 5 7 8 9]\n",
      "max occuring is 1 and its indexes are [0 1 2]\n"
     ]
    }
   ],
   "source": [
    "'''\n",
    "1 (d) Find the most frequent value and their indice(s) in the following arrays: \n",
    "i. x = np.array([1,2,3,4,5,1,2,1,1,1]) \n",
    "ii. y = np.array([1, 1, 1, 2, 3, 4, 2, 4, 3, 3, ]) \n",
    "'''\n",
    "# i\n",
    "x = np.array([1,2,3,4,5,1,2,1,1,1]) \n",
    "x1 = np.bincount(x)\n",
    "max_occuring = x1.argmax()\n",
    "\n",
    "indexes = np.where(x == max_occuring)[0]\n",
    "print(f'max occuring is {max_occuring} and its indexes are {indexes}')\n",
    "\n",
    "# ii\n",
    "y = np.array([1, 1, 1, 2, 3, 4, 2, 4, 3, 3, ]) \n",
    "y1 = np.bincount(y)\n",
    "max_occuring = y1.argmax()\n",
    "\n",
    "indexes = np.where(y == max_occuring)[0]\n",
    "print(f'max occuring is {max_occuring} and its indexes are {indexes}')\n",
    "\n"
   ]
  },
  {
   "cell_type": "code",
   "execution_count": 27,
   "id": "64abfe73-052a-41df-b736-40685c3661a4",
   "metadata": {},
   "outputs": [
    {
     "name": "stdout",
     "output_type": "stream",
     "text": [
      "totalsum is 45 rowsum is [[20  9 16]] colsum is [[14]\n",
      " [16]\n",
      " [15]]\n"
     ]
    }
   ],
   "source": [
    "# 1 e)\n",
    "gfg = np.matrix('[4, 1, 9; 12, 3, 1; 4, 5, 6]')\n",
    "\n",
    "totalsum = gfg.sum()\n",
    "rowsum = gfg.sum(axis=0)\n",
    "colsum = gfg.sum(axis=1)\n",
    "\n",
    "print(f'totalsum is {totalsum} rowsum is {rowsum} colsum is {colsum}')"
   ]
  },
  {
   "cell_type": "code",
   "execution_count": 31,
   "id": "fc7484b5-a7b5-45e5-9b04-b2f5651f293b",
   "metadata": {},
   "outputs": [
    {
     "name": "stdout",
     "output_type": "stream",
     "text": [
      "eigon val is [98.16835147 28.097044   49.73460452]\n",
      "eigon vector is EigResult(eigenvalues=array([98.16835147, 28.097044  , 49.73460452]), eigenvectors=array([[ 0.4574917 ,  0.34637121, -0.15017693],\n",
      "       [ 0.28447814, -0.72784061, -0.4852124 ],\n",
      "       [ 0.84248058,  0.59184038,  0.8614034 ]]))\n",
      "inverse is [[ 0.02404141 -0.00911212 -0.00444671]\n",
      " [-0.01667882  0.02966905  0.0024785 ]\n",
      " [ 0.00631287 -0.01603732  0.01217379]]\n",
      "determinant is 137180.0000000001\n"
     ]
    }
   ],
   "source": [
    "# 1 f)\n",
    "n_array = np.array([[55, 25, 15],[30, 44, 2],[11, 45, 77]])\n",
    "\n",
    "#i\n",
    "diagsum = np.diagonal(n_array).sum()\n",
    "\n",
    "#ii\n",
    "eigval = np.linalg.eigvals(n_array)\n",
    "print(f'eigon val is {eigval}')\n",
    "\n",
    "#iii\n",
    "eigvec = np.linalg.eig(n_array)\n",
    "print(f'eigon vector is {eigvec}')\n",
    "\n",
    "#iv\n",
    "inv = np.linalg.inv(n_array)\n",
    "print(f'inverse is {inv}')\n",
    "\n",
    "#v\n",
    "det = np.linalg.det(n_array)\n",
    "print(f'determinant is {det}')"
   ]
  },
  {
   "cell_type": "code",
   "execution_count": 35,
   "id": "6d3a8acf-7234-45d9-8cd0-f54a6cedf6f0",
   "metadata": {},
   "outputs": [
    {
     "name": "stdout",
     "output_type": "stream",
     "text": [
      "Matrix multiplication  [[16 19]\n",
      " [26 31]]\n",
      "Covariance matrix:\n",
      " [[0.66666667 1.        ]\n",
      " [1.         1.66666667]]\n",
      "Matrix multiplication \n",
      " [[16 19  5]\n",
      " [26 31  8]\n",
      " [46 55 14]]\n",
      "Covariance matrix:\n",
      " [[2.16666667 0.23333333]\n",
      " [0.23333333 5.36666667]]\n"
     ]
    }
   ],
   "source": [
    "# 1 g)\n",
    "\n",
    "# Part i\n",
    "p1 = np.array([[1, 2], [2, 3]])\n",
    "q1 = np.array([[4, 5], [6, 7]])\n",
    "\n",
    "# Matrix multiplication\n",
    "product1 = np.dot(p1, q1)\n",
    "print(\"Matrix multiplication \", product1)\n",
    "\n",
    "# Covariance between flattened versions\n",
    "cov1 = np.cov(p1.flatten(), q1.flatten())\n",
    "print(\"Covariance matrix:\\n\", cov1)\n",
    "\n",
    "\n",
    "# Part ii\n",
    "\n",
    "p2 = np.array([[1, 2], [2, 3], [4, 5]])\n",
    "q2 = np.array([[4, 5, 1], [6, 7, 2]])\n",
    "\n",
    "# Matrix multiplication\n",
    "product2 = np.dot(p2, q2)\n",
    "print(\"Matrix multiplication \\n\", product2)\n",
    "\n",
    "# Covariance between flattened versions\n",
    "cov2 = np.cov(p2.flatten(), q2.flatten())\n",
    "print(\"Covariance matrix:\\n\", cov2)\n"
   ]
  },
  {
   "cell_type": "code",
   "execution_count": 40,
   "id": "62983f5b-e2d4-48f8-8ee3-dddcf6adf9b7",
   "metadata": {},
   "outputs": [
    {
     "name": "stdout",
     "output_type": "stream",
     "text": [
      "Inner Product \n",
      "[[17 52]\n",
      " [13 62]]\n",
      "\n",
      " Outer Product \n",
      "[[ 2 10  0 10 20  6]\n",
      " [ 3 15  0 15 30  9]\n",
      " [ 4 20  0 20 40 12]\n",
      " [ 3 15  0 15 30  9]\n",
      " [ 2 10  0 10 20  6]\n",
      " [ 9 45  0 45 90 27]]\n",
      "\n",
      "=== Cartesian Product ===\n",
      "[[ 2  3  4  1  5  0]\n",
      " [ 2  3  4  5 10  3]\n",
      " [ 3  2  9  1  5  0]\n",
      " [ 3  2  9  5 10  3]]\n"
     ]
    }
   ],
   "source": [
    "# 1 h\n",
    "from itertools import product\n",
    "\n",
    "x = np.array([[2, 3, 4],\n",
    "              [3, 2, 9]])\n",
    "\n",
    "y = np.array([[1, 5, 0],\n",
    "              [5, 10, 3]])\n",
    "\n",
    "# Inner Product\n",
    "inner = np.inner(x, y)\n",
    "print(\"Inner Product \")\n",
    "print(inner)\n",
    "\n",
    "# Outer Product\n",
    "outer = np.outer(x, y)\n",
    "print(\"\\n Outer Product \")\n",
    "print(outer)\n",
    "\n",
    "# Cartesian Product (row-wise combinations)\n",
    "cartesian = np.array([np.concatenate((a, b)) for a, b in product(x, y)])\n",
    "print(\"\\nCartesian Product \")\n",
    "print(cartesian)"
   ]
  },
  {
   "cell_type": "markdown",
   "id": "39e45c1e-c58d-407f-b4c5-ba3e09d7121f",
   "metadata": {},
   "source": [
    "q 2a"
   ]
  },
  {
   "cell_type": "code",
   "execution_count": 49,
   "id": "b9ca7543-ab04-4cc8-a4fa-692d41cd11f9",
   "metadata": {},
   "outputs": [
    {
     "name": "stdout",
     "output_type": "stream",
     "text": [
      "abs is \n",
      " [[1 2 3]\n",
      " [4 5 6]]\n",
      "\n",
      "Percentiles (Flattened array): [-3.5 -0.5  2.5]\n",
      "\n",
      "Column-wise percentiles:\n",
      " [[-2.75 -0.25 -3.75]\n",
      " [-1.5   1.5  -1.5 ]\n",
      " [-0.25  3.25  0.75]]\n",
      "\n",
      "Row-wise percentiles:\n",
      " [[-0.5 -5. ]\n",
      " [ 1.  -4. ]\n",
      " [ 2.   0.5]]\n",
      "Flattened - Mean: -0.5, Median: -0.5, Std: 3.8622100754188224\n",
      "Column-wise - Mean: [-1.5  1.5 -1.5], Median: [-1.5  1.5 -1.5], Std: [2.5 3.5 4.5]\n",
      "Row-wise - Mean: [ 0.66666667 -1.66666667], Median: [ 1. -4.], Std: [2.05480467 4.78423336]\n"
     ]
    }
   ],
   "source": [
    "array = np.array([[1, -2, 3],[-4, 5, -6]])\n",
    "#i\n",
    "modulo = np.abs(array)\n",
    "print(f'abs is \\n {modulo}')\n",
    "\n",
    "#ii\n",
    "flat_percentiles = np.percentile(array, [25, 50, 75])\n",
    "print(\"\\nPercentiles (Flattened array):\", flat_percentiles)\n",
    "\n",
    "# Column-wise\n",
    "col_percentiles = np.percentile(array, [25, 50, 75], axis=0)\n",
    "print(\"\\nColumn-wise percentiles:\\n\", col_percentiles)\n",
    "\n",
    "# Row-wise\n",
    "row_percentiles = np.percentile(array, [25, 50, 75], axis=1)\n",
    "print(\"\\nRow-wise percentiles:\\n\", row_percentiles)\n",
    "\n",
    "#iii\n",
    "# Mean\n",
    "mean_flat = np.mean(array)\n",
    "mean_col = np.mean(array, axis=0)\n",
    "mean_row = np.mean(array, axis=1)\n",
    "\n",
    "# Median\n",
    "median_flat = np.median(array)\n",
    "median_col = np.median(array, axis=0)\n",
    "median_row = np.median(array, axis=1)\n",
    "\n",
    "# Std. deviation\n",
    "std_flat = np.std(array)\n",
    "std_col = np.std(array, axis=0)\n",
    "std_row = np.std(array, axis=1)\n",
    "\n",
    "# Display\n",
    "\n",
    "print(f\"Flattened - Mean: {mean_flat}, Median: {median_flat}, Std: {std_flat}\")\n",
    "print(f\"Column-wise - Mean: {mean_col}, Median: {median_col}, Std: {std_col}\")\n",
    "print(f\"Row-wise - Mean: {mean_row}, Median: {median_row}, Std: {std_row}\")"
   ]
  },
  {
   "cell_type": "markdown",
   "id": "d77def33-c0bf-4fe7-9539-8f51d49f51bc",
   "metadata": {},
   "source": [
    "q 2b"
   ]
  },
  {
   "cell_type": "code",
   "execution_count": 50,
   "id": "1fa376fa-6f41-4027-9534-abb89739898e",
   "metadata": {},
   "outputs": [
    {
     "name": "stdout",
     "output_type": "stream",
     "text": [
      "Original array:       [-1.8 -1.6 -0.5  0.5  1.6  1.8  3. ]\n",
      "Floor values:         [-2. -2. -1.  0.  1.  1.  3.]\n",
      "Ceiling values:       [-1. -1. -0.  1.  2.  2.  3.]\n",
      "Truncated values:     [-1. -1. -0.  0.  1.  1.  3.]\n",
      "Rounded values:       [-2. -2. -0.  0.  2.  2.  3.]\n"
     ]
    }
   ],
   "source": [
    "a = np.array([-1.8, -1.6, -0.5, 0.5,1.6, 1.8, 3.0])\n",
    "\n",
    "# Floor: largest integer ≤ value\n",
    "floor_vals = np.floor(a)\n",
    "\n",
    "# Ceil: smallest integer ≥ value\n",
    "ceil_vals = np.ceil(a)\n",
    "\n",
    "# Truncated: remove fractional part toward zero\n",
    "trunc_vals = np.trunc(a)\n",
    "\n",
    "# Rounded: to nearest integer (ties to even)\n",
    "round_vals = np.round(a)\n",
    "\n",
    "# Display results\n",
    "print(\"Original array:      \", a)\n",
    "print(\"Floor values:        \", floor_vals)\n",
    "print(\"Ceiling values:      \", ceil_vals)\n",
    "print(\"Truncated values:    \", trunc_vals)\n",
    "print(\"Rounded values:      \", round_vals)"
   ]
  },
  {
   "cell_type": "markdown",
   "id": "58697f65-faec-4af3-8c7b-ed6fbbcd5031",
   "metadata": {},
   "source": [
    "q3"
   ]
  },
  {
   "cell_type": "code",
   "execution_count": 51,
   "id": "df5afb6e-fb08-4fd2-97ed-62d18857cbe1",
   "metadata": {},
   "outputs": [
    {
     "name": "stdout",
     "output_type": "stream",
     "text": [
      "Original array:            [ 10  52  62  16  16  54 453]\n",
      "i. Sorted array:           [ 10  16  16  52  54  62 453]\n",
      "ii. Indices of sorted:     [0 3 4 1 5 2 6]\n",
      "iii. 4 smallest elements:  [10 16 16 52]\n",
      "iv. 5 largest elements:    [ 16  52  54  62 453]\n",
      "Original array:              [1.  1.2 2.2 2.  3.  2. ]\n",
      "i. Integer elements only:    [1. 2. 3. 2.]\n",
      "ii. Float elements only:     [1.2 2.2]\n"
     ]
    }
   ],
   "source": [
    "# Part (a)\n",
    "array_a = np.array([10, 52, 62, 16, 16, 54, 453])\n",
    "\n",
    "# i. Sorted array\n",
    "sorted_array = np.sort(array_a)\n",
    "\n",
    "# ii. Indices of sorted array\n",
    "sorted_indices = np.argsort(array_a)\n",
    "\n",
    "# iii. 4 smallest elements\n",
    "smallest_4 = sorted_array[:4]\n",
    "\n",
    "# iv. 5 largest elements\n",
    "largest_5 = sorted_array[-5:]\n",
    "\n",
    "\n",
    "print(\"Original array:           \", array_a)\n",
    "print(\"i. Sorted array:          \", sorted_array)\n",
    "print(\"ii. Indices of sorted:    \", sorted_indices)\n",
    "print(\"iii. 4 smallest elements: \", smallest_4)\n",
    "print(\"iv. 5 largest elements:   \", largest_5)\n",
    "\n",
    "# Part (b)\n",
    "array_b = np.array([1.0, 1.2, 2.2, 2.0, 3.0, 2.0])\n",
    "\n",
    "# i. Integer elements only\n",
    "integer_elements = array_b[array_b == array_b.astype(int)]\n",
    "\n",
    "# ii. Float (non-integer) elements only\n",
    "float_elements = array_b[array_b != array_b.astype(int)]\n",
    "\n",
    "\n",
    "print(\"Original array:             \", array_b)\n",
    "print(\"i. Integer elements only:   \", integer_elements)\n",
    "print(\"ii. Float elements only:    \", float_elements)"
   ]
  },
  {
   "cell_type": "markdown",
   "id": "62193242-25b3-4d8f-abf3-27dd2008bf81",
   "metadata": {},
   "source": [
    "q 4"
   ]
  },
  {
   "cell_type": "code",
   "execution_count": 26,
   "id": "9fa3f924-c803-416a-b2e7-da2412678fc4",
   "metadata": {},
   "outputs": [
    {
     "name": "stdout",
     "output_type": "stream",
     "text": [
      "RGB image detected\n",
      "Loaded RGB shape: (921600, 3)\n",
      "[[ 89  94 100]\n",
      " [ 89  94 100]\n",
      " [ 89  94 100]\n",
      " [ 89  94 100]\n",
      " [ 89  94 100]]\n"
     ]
    }
   ],
   "source": [
    "from PIL import Image, ImageFile\n",
    "import numpy as np\n",
    "\n",
    "ImageFile.LOAD_TRUNCATED_IMAGES = True\n",
    "\n",
    "def img_to_array(path):\n",
    "    try:\n",
    "        img = Image.open(path)\n",
    "        img_arr = np.array(img)\n",
    "\n",
    "        if img_arr.ndim == 2:\n",
    "            print(\"Grayscale image detected\")\n",
    "            np.savetxt(\"image_grayscale.txt\", img_arr, fmt='%d')\n",
    "            return \"grayscale\"\n",
    "\n",
    "        elif img_arr.ndim == 3:\n",
    "            print(\"RGB image detected\")\n",
    "            flat = img_arr.reshape(-1, img_arr.shape[2])\n",
    "            np.savetxt(\"image_rgb.txt\", flat, fmt='%d')\n",
    "            return \"rgb\"\n",
    "\n",
    "        else:\n",
    "            print(\"Image format not recognized\")\n",
    "            return None\n",
    "\n",
    "    except Exception as e:\n",
    "        print(\"Error:\", e)\n",
    "        return None\n",
    "\n",
    "image_type = img_to_array(\"scorpio.jpg\")\n",
    "\n",
    "# Load the saved file based on type\n",
    "if image_type == \"grayscale\":\n",
    "    gray = np.loadtxt(\"image_grayscale.txt\", dtype=int)\n",
    "    print(\"Loaded grayscale shape:\", gray.shape)\n",
    "    print(gray[:5])  # Print only a part\n",
    "\n",
    "elif image_type == \"rgb\":\n",
    "    rgb = np.loadtxt(\"image_rgb.txt\", dtype=int)\n",
    "    print(\"Loaded RGB shape:\", rgb.shape)\n",
    "    print(rgb[:5])  # Print only a part\n",
    "\n",
    "else:\n",
    "    print(\"Could not load the saved image data.\")\n"
   ]
  }
 ],
 "metadata": {
  "kernelspec": {
   "display_name": "Python [conda env:base] *",
   "language": "python",
   "name": "conda-base-py"
  },
  "language_info": {
   "codemirror_mode": {
    "name": "ipython",
    "version": 3
   },
   "file_extension": ".py",
   "mimetype": "text/x-python",
   "name": "python",
   "nbconvert_exporter": "python",
   "pygments_lexer": "ipython3",
   "version": "3.13.5"
  }
 },
 "nbformat": 4,
 "nbformat_minor": 5
}
